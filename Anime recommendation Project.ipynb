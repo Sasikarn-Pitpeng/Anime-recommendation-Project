{
  "cells": [
    {
      "cell_type": "markdown",
      "metadata": {
        "id": "ui89l5uyaJBp"
      },
      "source": [
        "# **Anime recommendation Project**\n"
      ]
    },
    {
      "cell_type": "markdown",
      "metadata": {
        "id": "cfiGRshkGnAu"
      },
      "source": [
        "# **Explore Data**\n",
        "- Data visualization\n",
        "- Data cleansing"
      ]
    },
    {
      "cell_type": "code",
      "execution_count": null,
      "metadata": {
        "colab": {
          "base_uri": "https://localhost:8080/"
        },
        "id": "Jtdl7ny48WPO",
        "outputId": "16af20cd-1340-4ac2-84db-af5163ee356e"
      },
      "outputs": [
        {
          "name": "stdout",
          "output_type": "stream",
          "text": [
            "Drive already mounted at /content/drive; to attempt to forcibly remount, call drive.mount(\"/content/drive\", force_remount=True).\n"
          ]
        }
      ],
      "source": [
        "from google.colab import drive\n",
        "drive.mount('/content/drive')"
      ]
    },
    {
      "cell_type": "code",
      "execution_count": null,
      "metadata": {
        "id": "5GfPR2nH0iJK"
      },
      "outputs": [],
      "source": [
        "import pandas as pd\n",
        "import numpy as np\n",
        "import matplotlib.pyplot as plt\n",
        "import seaborn as sns\n",
        "from sklearn.feature_extraction.text import TfidfVectorizer\n",
        "from sklearn.metrics.pairwise import cosine_similarity\n",
        "from sklearn.model_selection import train_test_split\n",
        "from sklearn.model_selection import GridSearchCV \n",
        "from sklearn.ensemble import RandomForestClassifier\n",
        "from sklearn.neighbors import KNeighborsRegressor\n",
        "from sklearn.preprocessing import LabelEncoder\n",
        "from sklearn.neural_network import MLPClassifier\n",
        "import tensorflow as tf\n",
        "from tensorflow import keras\n",
        "from tensorflow.keras import layers\n",
        "from pathlib import Path\n",
        "from sklearn.metrics import f1_score, classification_report,confusion_matrix"
      ]
    },
    {
      "cell_type": "code",
      "execution_count": null,
      "metadata": {
        "id": "svpb-GerF0_G"
      },
      "outputs": [],
      "source": [
        "df1 = pd.read_csv('/content/drive/MyDrive/Colab Notebooks/dataset/animes.csv')\n",
        "df2 = pd.read_csv('/content/drive/MyDrive/Colab Notebooks/dataset/profiles.csv')\n",
        "df3 = pd.read_csv('/content/drive/MyDrive/Colab Notebooks/dataset/reviews.csv')"
      ]
    },
    {
      "cell_type": "code",
      "execution_count": null,
      "metadata": {
        "colab": {
          "base_uri": "https://localhost:8080/"
        },
        "id": "ALl1QqU98tc9",
        "outputId": "929173d2-2a94-43b3-922b-209a7d3f461f"
      },
      "outputs": [
        {
          "name": "stdout",
          "output_type": "stream",
          "text": [
            "anime shape: (19311, 12)\n",
            "profile shape: (81727, 5)\n",
            "reviews shape: (192112, 7)\n"
          ]
        }
      ],
      "source": [
        "print('anime shape:',df1.shape)\n",
        "print('profile shape:', df2.shape)\n",
        "print('reviews shape:', df3.shape)"
      ]
    },
    {
      "cell_type": "code",
      "execution_count": null,
      "metadata": {
        "colab": {
          "base_uri": "https://localhost:8080/"
        },
        "id": "gaM9Pltssj0i",
        "outputId": "8ea4e111-3698-40ad-900b-bc64162536a3"
      },
      "outputs": [
        {
          "name": "stdout",
          "output_type": "stream",
          "text": [
            "<class 'pandas.core.frame.DataFrame'>\n",
            "RangeIndex: 19311 entries, 0 to 19310\n",
            "Data columns (total 12 columns):\n",
            " #   Column      Non-Null Count  Dtype  \n",
            "---  ------      --------------  -----  \n",
            " 0   uid         19311 non-null  int64  \n",
            " 1   title       19311 non-null  object \n",
            " 2   synopsis    18336 non-null  object \n",
            " 3   genre       19311 non-null  object \n",
            " 4   aired       19311 non-null  object \n",
            " 5   episodes    18605 non-null  float64\n",
            " 6   members     19311 non-null  int64  \n",
            " 7   popularity  19311 non-null  int64  \n",
            " 8   ranked      16099 non-null  float64\n",
            " 9   score       18732 non-null  float64\n",
            " 10  img_url     19131 non-null  object \n",
            " 11  link        19311 non-null  object \n",
            "dtypes: float64(3), int64(3), object(6)\n",
            "memory usage: 1.8+ MB\n"
          ]
        }
      ],
      "source": [
        "df1.info()"
      ]
    },
    {
      "cell_type": "code",
      "execution_count": null,
      "metadata": {
        "colab": {
          "base_uri": "https://localhost:8080/"
        },
        "id": "XHduH2Fisol9",
        "outputId": "866f57d0-1012-456e-ed04-e1d5806646c2"
      },
      "outputs": [
        {
          "name": "stdout",
          "output_type": "stream",
          "text": [
            "<class 'pandas.core.frame.DataFrame'>\n",
            "RangeIndex: 81727 entries, 0 to 81726\n",
            "Data columns (total 5 columns):\n",
            " #   Column           Non-Null Count  Dtype \n",
            "---  ------           --------------  ----- \n",
            " 0   profile          81727 non-null  object\n",
            " 1   gender           53856 non-null  object\n",
            " 2   birthday         46807 non-null  object\n",
            " 3   favorites_anime  81727 non-null  object\n",
            " 4   link             81727 non-null  object\n",
            "dtypes: object(5)\n",
            "memory usage: 3.1+ MB\n"
          ]
        }
      ],
      "source": [
        "df2.info()"
      ]
    },
    {
      "cell_type": "code",
      "execution_count": null,
      "metadata": {
        "colab": {
          "base_uri": "https://localhost:8080/"
        },
        "id": "V-XMLr_wsrle",
        "outputId": "72507ea0-23de-4eea-f9b0-e2b469585a8d"
      },
      "outputs": [
        {
          "name": "stdout",
          "output_type": "stream",
          "text": [
            "<class 'pandas.core.frame.DataFrame'>\n",
            "RangeIndex: 192112 entries, 0 to 192111\n",
            "Data columns (total 7 columns):\n",
            " #   Column     Non-Null Count   Dtype \n",
            "---  ------     --------------   ----- \n",
            " 0   uid        192112 non-null  int64 \n",
            " 1   profile    192112 non-null  object\n",
            " 2   anime_uid  192112 non-null  int64 \n",
            " 3   text       192112 non-null  object\n",
            " 4   score      192112 non-null  int64 \n",
            " 5   scores     192112 non-null  object\n",
            " 6   link       192112 non-null  object\n",
            "dtypes: int64(3), object(4)\n",
            "memory usage: 10.3+ MB\n"
          ]
        }
      ],
      "source": [
        "df3.info()"
      ]
    },
    {
      "cell_type": "code",
      "execution_count": null,
      "metadata": {
        "colab": {
          "base_uri": "https://localhost:8080/"
        },
        "id": "5E0v8tHlEJH0",
        "outputId": "baea07f1-6d61-436c-bdf5-1ee220f283f6"
      },
      "outputs": [
        {
          "data": {
            "text/plain": [
              "0        False\n",
              "1        False\n",
              "2        False\n",
              "3        False\n",
              "4        False\n",
              "         ...  \n",
              "19306     True\n",
              "19307     True\n",
              "19308     True\n",
              "19309     True\n",
              "19310     True\n",
              "Length: 19311, dtype: bool"
            ]
          },
          "execution_count": 8,
          "metadata": {},
          "output_type": "execute_result"
        }
      ],
      "source": [
        "df1.duplicated()"
      ]
    },
    {
      "cell_type": "code",
      "execution_count": null,
      "metadata": {
        "colab": {
          "base_uri": "https://localhost:8080/"
        },
        "id": "rUomD0BNEMIT",
        "outputId": "c0dd1812-e2fb-4313-b71f-ad2e1ec584e3"
      },
      "outputs": [
        {
          "data": {
            "text/plain": [
              "0        False\n",
              "1        False\n",
              "2        False\n",
              "3        False\n",
              "4        False\n",
              "         ...  \n",
              "81722     True\n",
              "81723     True\n",
              "81724     True\n",
              "81725     True\n",
              "81726     True\n",
              "Length: 81727, dtype: bool"
            ]
          },
          "execution_count": 9,
          "metadata": {},
          "output_type": "execute_result"
        }
      ],
      "source": [
        "df2.duplicated()"
      ]
    },
    {
      "cell_type": "code",
      "execution_count": null,
      "metadata": {
        "colab": {
          "base_uri": "https://localhost:8080/"
        },
        "id": "jLtUWiGkEOhR",
        "outputId": "b8602d10-62a3-42ba-de5b-6ac7f369e91b"
      },
      "outputs": [
        {
          "data": {
            "text/plain": [
              "0         False\n",
              "1         False\n",
              "2         False\n",
              "3         False\n",
              "4         False\n",
              "          ...  \n",
              "192107     True\n",
              "192108     True\n",
              "192109     True\n",
              "192110     True\n",
              "192111     True\n",
              "Length: 192112, dtype: bool"
            ]
          },
          "execution_count": 10,
          "metadata": {},
          "output_type": "execute_result"
        }
      ],
      "source": [
        "df3.duplicated()"
      ]
    },
    {
      "cell_type": "code",
      "execution_count": null,
      "metadata": {
        "colab": {
          "base_uri": "https://localhost:8080/"
        },
        "id": "56wlSY3-EZXY",
        "outputId": "24c4090b-f360-4757-d427-5ee8f50942b5"
      },
      "outputs": [
        {
          "name": "stdout",
          "output_type": "stream",
          "text": [
            "anime shape: (16368, 12)\n",
            "profile shape: (47902, 5)\n",
            "reviews shape: (130519, 7)\n"
          ]
        }
      ],
      "source": [
        "df1 = df1.drop_duplicates()\n",
        "df2 = df2.drop_duplicates()\n",
        "df3 = df3.drop_duplicates()\n",
        "print('anime shape:',df1.shape)\n",
        "print('profile shape:', df2.shape)\n",
        "print('reviews shape:', df3.shape)"
      ]
    },
    {
      "cell_type": "code",
      "execution_count": null,
      "metadata": {
        "colab": {
          "base_uri": "https://localhost:8080/",
          "height": 581
        },
        "id": "GUaRm7DR9Bil",
        "outputId": "9ead6b00-a8d4-4355-a5a3-aebb65d6636b"
      },
      "outputs": [
        {
          "data": {
            "text/html": [
              "<div>\n",
              "<style scoped>\n",
              "    .dataframe tbody tr th:only-of-type {\n",
              "        vertical-align: middle;\n",
              "    }\n",
              "\n",
              "    .dataframe tbody tr th {\n",
              "        vertical-align: top;\n",
              "    }\n",
              "\n",
              "    .dataframe thead th {\n",
              "        text-align: right;\n",
              "    }\n",
              "</style>\n",
              "<table border=\"1\" class=\"dataframe\">\n",
              "  <thead>\n",
              "    <tr style=\"text-align: right;\">\n",
              "      <th></th>\n",
              "      <th>uid</th>\n",
              "      <th>title</th>\n",
              "      <th>synopsis</th>\n",
              "      <th>genre</th>\n",
              "      <th>aired</th>\n",
              "      <th>episodes</th>\n",
              "      <th>members</th>\n",
              "      <th>popularity</th>\n",
              "      <th>ranked</th>\n",
              "      <th>score</th>\n",
              "      <th>img_url</th>\n",
              "      <th>link</th>\n",
              "    </tr>\n",
              "  </thead>\n",
              "  <tbody>\n",
              "    <tr>\n",
              "      <th>0</th>\n",
              "      <td>28891</td>\n",
              "      <td>Haikyuu!! Second Season</td>\n",
              "      <td>Following their participation at the Inter-Hig...</td>\n",
              "      <td>['Comedy', 'Sports', 'Drama', 'School', 'Shoun...</td>\n",
              "      <td>Oct 4, 2015 to Mar 27, 2016</td>\n",
              "      <td>25.0</td>\n",
              "      <td>489888</td>\n",
              "      <td>141</td>\n",
              "      <td>25.0</td>\n",
              "      <td>8.82</td>\n",
              "      <td>https://cdn.myanimelist.net/images/anime/9/766...</td>\n",
              "      <td>https://myanimelist.net/anime/28891/Haikyuu_Se...</td>\n",
              "    </tr>\n",
              "    <tr>\n",
              "      <th>1</th>\n",
              "      <td>23273</td>\n",
              "      <td>Shigatsu wa Kimi no Uso</td>\n",
              "      <td>Music accompanies the path of the human metron...</td>\n",
              "      <td>['Drama', 'Music', 'Romance', 'School', 'Shoun...</td>\n",
              "      <td>Oct 10, 2014 to Mar 20, 2015</td>\n",
              "      <td>22.0</td>\n",
              "      <td>995473</td>\n",
              "      <td>28</td>\n",
              "      <td>24.0</td>\n",
              "      <td>8.83</td>\n",
              "      <td>https://cdn.myanimelist.net/images/anime/3/671...</td>\n",
              "      <td>https://myanimelist.net/anime/23273/Shigatsu_w...</td>\n",
              "    </tr>\n",
              "    <tr>\n",
              "      <th>2</th>\n",
              "      <td>34599</td>\n",
              "      <td>Made in Abyss</td>\n",
              "      <td>The Abyss—a gaping chasm stretching down into ...</td>\n",
              "      <td>['Sci-Fi', 'Adventure', 'Mystery', 'Drama', 'F...</td>\n",
              "      <td>Jul 7, 2017 to Sep 29, 2017</td>\n",
              "      <td>13.0</td>\n",
              "      <td>581663</td>\n",
              "      <td>98</td>\n",
              "      <td>23.0</td>\n",
              "      <td>8.83</td>\n",
              "      <td>https://cdn.myanimelist.net/images/anime/6/867...</td>\n",
              "      <td>https://myanimelist.net/anime/34599/Made_in_Abyss</td>\n",
              "    </tr>\n",
              "    <tr>\n",
              "      <th>3</th>\n",
              "      <td>5114</td>\n",
              "      <td>Fullmetal Alchemist: Brotherhood</td>\n",
              "      <td>\"In order for something to be obtained, someth...</td>\n",
              "      <td>['Action', 'Military', 'Adventure', 'Comedy', ...</td>\n",
              "      <td>Apr 5, 2009 to Jul 4, 2010</td>\n",
              "      <td>64.0</td>\n",
              "      <td>1615084</td>\n",
              "      <td>4</td>\n",
              "      <td>1.0</td>\n",
              "      <td>9.23</td>\n",
              "      <td>https://cdn.myanimelist.net/images/anime/1223/...</td>\n",
              "      <td>https://myanimelist.net/anime/5114/Fullmetal_A...</td>\n",
              "    </tr>\n",
              "    <tr>\n",
              "      <th>4</th>\n",
              "      <td>31758</td>\n",
              "      <td>Kizumonogatari III: Reiketsu-hen</td>\n",
              "      <td>After helping revive the legendary vampire Kis...</td>\n",
              "      <td>['Action', 'Mystery', 'Supernatural', 'Vampire']</td>\n",
              "      <td>Jan 6, 2017</td>\n",
              "      <td>1.0</td>\n",
              "      <td>214621</td>\n",
              "      <td>502</td>\n",
              "      <td>22.0</td>\n",
              "      <td>8.83</td>\n",
              "      <td>https://cdn.myanimelist.net/images/anime/3/815...</td>\n",
              "      <td>https://myanimelist.net/anime/31758/Kizumonoga...</td>\n",
              "    </tr>\n",
              "  </tbody>\n",
              "</table>\n",
              "</div>"
            ],
            "text/plain": [
              "     uid  ...                                               link\n",
              "0  28891  ...  https://myanimelist.net/anime/28891/Haikyuu_Se...\n",
              "1  23273  ...  https://myanimelist.net/anime/23273/Shigatsu_w...\n",
              "2  34599  ...  https://myanimelist.net/anime/34599/Made_in_Abyss\n",
              "3   5114  ...  https://myanimelist.net/anime/5114/Fullmetal_A...\n",
              "4  31758  ...  https://myanimelist.net/anime/31758/Kizumonoga...\n",
              "\n",
              "[5 rows x 12 columns]"
            ]
          },
          "execution_count": 12,
          "metadata": {},
          "output_type": "execute_result"
        }
      ],
      "source": [
        "df1.head(5)"
      ]
    },
    {
      "cell_type": "code",
      "execution_count": null,
      "metadata": {
        "colab": {
          "base_uri": "https://localhost:8080/",
          "height": 204
        },
        "id": "M_gi5tj69Oid",
        "outputId": "34f44403-cf03-400e-e5b9-3ed32fa7d82d"
      },
      "outputs": [
        {
          "data": {
            "text/html": [
              "<div>\n",
              "<style scoped>\n",
              "    .dataframe tbody tr th:only-of-type {\n",
              "        vertical-align: middle;\n",
              "    }\n",
              "\n",
              "    .dataframe tbody tr th {\n",
              "        vertical-align: top;\n",
              "    }\n",
              "\n",
              "    .dataframe thead th {\n",
              "        text-align: right;\n",
              "    }\n",
              "</style>\n",
              "<table border=\"1\" class=\"dataframe\">\n",
              "  <thead>\n",
              "    <tr style=\"text-align: right;\">\n",
              "      <th></th>\n",
              "      <th>profile</th>\n",
              "      <th>gender</th>\n",
              "      <th>birthday</th>\n",
              "      <th>favorites_anime</th>\n",
              "      <th>link</th>\n",
              "    </tr>\n",
              "  </thead>\n",
              "  <tbody>\n",
              "    <tr>\n",
              "      <th>0</th>\n",
              "      <td>DesolatePsyche</td>\n",
              "      <td>Male</td>\n",
              "      <td>Oct 2, 1994</td>\n",
              "      <td>['33352', '25013', '5530', '33674', '1482', '2...</td>\n",
              "      <td>https://myanimelist.net/profile/DesolatePsyche</td>\n",
              "    </tr>\n",
              "    <tr>\n",
              "      <th>1</th>\n",
              "      <td>baekbeans</td>\n",
              "      <td>Female</td>\n",
              "      <td>Nov 10, 2000</td>\n",
              "      <td>['11061', '31964', '853', '20583', '918', '925...</td>\n",
              "      <td>https://myanimelist.net/profile/baekbeans</td>\n",
              "    </tr>\n",
              "    <tr>\n",
              "      <th>2</th>\n",
              "      <td>skrn</td>\n",
              "      <td>NaN</td>\n",
              "      <td>NaN</td>\n",
              "      <td>['918', '2904', '11741', '17074', '23273', '32...</td>\n",
              "      <td>https://myanimelist.net/profile/skrn</td>\n",
              "    </tr>\n",
              "    <tr>\n",
              "      <th>3</th>\n",
              "      <td>edgewalker00</td>\n",
              "      <td>Male</td>\n",
              "      <td>Sep 5</td>\n",
              "      <td>['5680', '849', '2904', '3588', '37349']</td>\n",
              "      <td>https://myanimelist.net/profile/edgewalker00</td>\n",
              "    </tr>\n",
              "    <tr>\n",
              "      <th>4</th>\n",
              "      <td>aManOfCulture99</td>\n",
              "      <td>Male</td>\n",
              "      <td>Oct 30, 1999</td>\n",
              "      <td>['4181', '7791', '9617', '5680', '2167', '4382...</td>\n",
              "      <td>https://myanimelist.net/profile/aManOfCulture99</td>\n",
              "    </tr>\n",
              "  </tbody>\n",
              "</table>\n",
              "</div>"
            ],
            "text/plain": [
              "           profile  ...                                             link\n",
              "0   DesolatePsyche  ...   https://myanimelist.net/profile/DesolatePsyche\n",
              "1        baekbeans  ...        https://myanimelist.net/profile/baekbeans\n",
              "2             skrn  ...             https://myanimelist.net/profile/skrn\n",
              "3     edgewalker00  ...     https://myanimelist.net/profile/edgewalker00\n",
              "4  aManOfCulture99  ...  https://myanimelist.net/profile/aManOfCulture99\n",
              "\n",
              "[5 rows x 5 columns]"
            ]
          },
          "execution_count": 13,
          "metadata": {},
          "output_type": "execute_result"
        }
      ],
      "source": [
        "df2.head(5)"
      ]
    },
    {
      "cell_type": "code",
      "execution_count": null,
      "metadata": {
        "colab": {
          "base_uri": "https://localhost:8080/",
          "height": 204
        },
        "id": "xGLLgdTqTMlC",
        "outputId": "37dff724-5a73-4fbd-ae5f-19251d44d690"
      },
      "outputs": [
        {
          "data": {
            "text/html": [
              "<div>\n",
              "<style scoped>\n",
              "    .dataframe tbody tr th:only-of-type {\n",
              "        vertical-align: middle;\n",
              "    }\n",
              "\n",
              "    .dataframe tbody tr th {\n",
              "        vertical-align: top;\n",
              "    }\n",
              "\n",
              "    .dataframe thead th {\n",
              "        text-align: right;\n",
              "    }\n",
              "</style>\n",
              "<table border=\"1\" class=\"dataframe\">\n",
              "  <thead>\n",
              "    <tr style=\"text-align: right;\">\n",
              "      <th></th>\n",
              "      <th>uid</th>\n",
              "      <th>profile</th>\n",
              "      <th>anime_uid</th>\n",
              "      <th>text</th>\n",
              "      <th>score</th>\n",
              "      <th>scores</th>\n",
              "      <th>link</th>\n",
              "    </tr>\n",
              "  </thead>\n",
              "  <tbody>\n",
              "    <tr>\n",
              "      <th>0</th>\n",
              "      <td>255938</td>\n",
              "      <td>DesolatePsyche</td>\n",
              "      <td>34096</td>\n",
              "      <td>\\n           \\n         \\n           \\n       ...</td>\n",
              "      <td>8</td>\n",
              "      <td>{'Overall': '8', 'Story': '8', 'Animation': '8...</td>\n",
              "      <td>https://myanimelist.net/reviews.php?id=255938</td>\n",
              "    </tr>\n",
              "    <tr>\n",
              "      <th>1</th>\n",
              "      <td>259117</td>\n",
              "      <td>baekbeans</td>\n",
              "      <td>34599</td>\n",
              "      <td>\\n           \\n         \\n           \\n       ...</td>\n",
              "      <td>10</td>\n",
              "      <td>{'Overall': '10', 'Story': '10', 'Animation': ...</td>\n",
              "      <td>https://myanimelist.net/reviews.php?id=259117</td>\n",
              "    </tr>\n",
              "    <tr>\n",
              "      <th>2</th>\n",
              "      <td>253664</td>\n",
              "      <td>skrn</td>\n",
              "      <td>28891</td>\n",
              "      <td>\\n           \\n         \\n           \\n       ...</td>\n",
              "      <td>7</td>\n",
              "      <td>{'Overall': '7', 'Story': '7', 'Animation': '9...</td>\n",
              "      <td>https://myanimelist.net/reviews.php?id=253664</td>\n",
              "    </tr>\n",
              "    <tr>\n",
              "      <th>3</th>\n",
              "      <td>8254</td>\n",
              "      <td>edgewalker00</td>\n",
              "      <td>2904</td>\n",
              "      <td>\\n           \\n         \\n           \\n       ...</td>\n",
              "      <td>9</td>\n",
              "      <td>{'Overall': '9', 'Story': '9', 'Animation': '9...</td>\n",
              "      <td>https://myanimelist.net/reviews.php?id=8254</td>\n",
              "    </tr>\n",
              "    <tr>\n",
              "      <th>4</th>\n",
              "      <td>291149</td>\n",
              "      <td>aManOfCulture99</td>\n",
              "      <td>4181</td>\n",
              "      <td>\\n           \\n         \\n           \\n       ...</td>\n",
              "      <td>10</td>\n",
              "      <td>{'Overall': '10', 'Story': '10', 'Animation': ...</td>\n",
              "      <td>https://myanimelist.net/reviews.php?id=291149</td>\n",
              "    </tr>\n",
              "  </tbody>\n",
              "</table>\n",
              "</div>"
            ],
            "text/plain": [
              "      uid  ...                                           link\n",
              "0  255938  ...  https://myanimelist.net/reviews.php?id=255938\n",
              "1  259117  ...  https://myanimelist.net/reviews.php?id=259117\n",
              "2  253664  ...  https://myanimelist.net/reviews.php?id=253664\n",
              "3    8254  ...    https://myanimelist.net/reviews.php?id=8254\n",
              "4  291149  ...  https://myanimelist.net/reviews.php?id=291149\n",
              "\n",
              "[5 rows x 7 columns]"
            ]
          },
          "execution_count": 14,
          "metadata": {},
          "output_type": "execute_result"
        }
      ],
      "source": [
        "df3.head(5)"
      ]
    },
    {
      "cell_type": "code",
      "execution_count": null,
      "metadata": {
        "colab": {
          "base_uri": "https://localhost:8080/"
        },
        "id": "9CRGfAIpGE_d",
        "outputId": "5373f6e3-7cc9-4a51-84c1-4534063763d6"
      },
      "outputs": [
        {
          "data": {
            "text/plain": [
              "uid              0\n",
              "title            0\n",
              "synopsis       785\n",
              "genre            0\n",
              "aired            0\n",
              "episodes       543\n",
              "members          0\n",
              "popularity       0\n",
              "ranked        1757\n",
              "score          404\n",
              "img_url        166\n",
              "link             0\n",
              "dtype: int64"
            ]
          },
          "execution_count": 15,
          "metadata": {},
          "output_type": "execute_result"
        }
      ],
      "source": [
        "df1.isnull().sum()"
      ]
    },
    {
      "cell_type": "code",
      "execution_count": null,
      "metadata": {
        "colab": {
          "base_uri": "https://localhost:8080/"
        },
        "id": "ZfdDcaMrGS1q",
        "outputId": "ed44127b-bfa4-456e-fdfd-f20085456c1d"
      },
      "outputs": [
        {
          "data": {
            "text/plain": [
              "profile                0\n",
              "gender             17012\n",
              "birthday           21043\n",
              "favorites_anime        0\n",
              "link                   0\n",
              "dtype: int64"
            ]
          },
          "execution_count": 16,
          "metadata": {},
          "output_type": "execute_result"
        }
      ],
      "source": [
        "df2.isnull().sum()"
      ]
    },
    {
      "cell_type": "code",
      "execution_count": null,
      "metadata": {
        "colab": {
          "base_uri": "https://localhost:8080/"
        },
        "id": "6euJzEYxTSYa",
        "outputId": "b727b01e-25cf-45b5-d671-cfd426d5af6c"
      },
      "outputs": [
        {
          "data": {
            "text/plain": [
              "uid          0\n",
              "profile      0\n",
              "anime_uid    0\n",
              "text         0\n",
              "score        0\n",
              "scores       0\n",
              "link         0\n",
              "dtype: int64"
            ]
          },
          "execution_count": 17,
          "metadata": {},
          "output_type": "execute_result"
        }
      ],
      "source": [
        "df3.isnull().sum()"
      ]
    },
    {
      "cell_type": "code",
      "execution_count": null,
      "metadata": {
        "colab": {
          "base_uri": "https://localhost:8080/",
          "height": 142
        },
        "id": "lCbieycyaAMP",
        "outputId": "634a953f-7eca-4a61-fe05-c1975ca1639b"
      },
      "outputs": [
        {
          "data": {
            "text/html": [
              "<div>\n",
              "<style scoped>\n",
              "    .dataframe tbody tr th:only-of-type {\n",
              "        vertical-align: middle;\n",
              "    }\n",
              "\n",
              "    .dataframe tbody tr th {\n",
              "        vertical-align: top;\n",
              "    }\n",
              "\n",
              "    .dataframe thead th {\n",
              "        text-align: right;\n",
              "    }\n",
              "</style>\n",
              "<table border=\"1\" class=\"dataframe\">\n",
              "  <thead>\n",
              "    <tr style=\"text-align: right;\">\n",
              "      <th></th>\n",
              "      <th>Gender</th>\n",
              "      <th>Count</th>\n",
              "    </tr>\n",
              "  </thead>\n",
              "  <tbody>\n",
              "    <tr>\n",
              "      <th>0</th>\n",
              "      <td>Male</td>\n",
              "      <td>21197</td>\n",
              "    </tr>\n",
              "    <tr>\n",
              "      <th>1</th>\n",
              "      <td>Female</td>\n",
              "      <td>9267</td>\n",
              "    </tr>\n",
              "    <tr>\n",
              "      <th>2</th>\n",
              "      <td>Non-Binary</td>\n",
              "      <td>426</td>\n",
              "    </tr>\n",
              "  </tbody>\n",
              "</table>\n",
              "</div>"
            ],
            "text/plain": [
              "       Gender  Count\n",
              "0        Male  21197\n",
              "1      Female   9267\n",
              "2  Non-Binary    426"
            ]
          },
          "execution_count": 18,
          "metadata": {},
          "output_type": "execute_result"
        }
      ],
      "source": [
        "gender_split = pd.DataFrame(df2.gender.value_counts())\n",
        "gender_split.reset_index(level=0,inplace=True)\n",
        "gender_split.columns = ['Gender','Count']\n",
        "gender_split.head()"
      ]
    },
    {
      "cell_type": "code",
      "execution_count": null,
      "metadata": {
        "colab": {
          "base_uri": "https://localhost:8080/",
          "height": 404
        },
        "id": "doHql5AQaMqG",
        "outputId": "9c2c9d08-825e-444f-eacd-3283fb603d3e"
      },
      "outputs": [
        {
          "data": {
            "image/png": "[encoded data removed]",
            "text/plain": [
              "<Figure size 864x432 with 1 Axes>"
            ]
          },
          "metadata": {
            "needs_background": "light"
          },
          "output_type": "display_data"
        }
      ],
      "source": [
        "plt.figure(figsize=(12, 6))\n",
        "plt.title('Gender Split in Anime Community')\n",
        "sns.barplot(x = 'Gender', y = 'Count', data=gender_split);"
      ]
    },
    {
      "cell_type": "code",
      "execution_count": null,
      "metadata": {
        "colab": {
          "base_uri": "https://localhost:8080/",
          "height": 421
        },
        "id": "tOPGjIoql_Uk",
        "outputId": "a093efa9-a7c5-4efd-872b-ffd4d719c328"
      },
      "outputs": [
        {
          "data": {
            "text/html": [
              "<div>\n",
              "<style scoped>\n",
              "    .dataframe tbody tr th:only-of-type {\n",
              "        vertical-align: middle;\n",
              "    }\n",
              "\n",
              "    .dataframe tbody tr th {\n",
              "        vertical-align: top;\n",
              "    }\n",
              "\n",
              "    .dataframe thead th {\n",
              "        text-align: right;\n",
              "    }\n",
              "</style>\n",
              "<table border=\"1\" class=\"dataframe\">\n",
              "  <thead>\n",
              "    <tr style=\"text-align: right;\">\n",
              "      <th></th>\n",
              "      <th>rating</th>\n",
              "      <th>Count</th>\n",
              "    </tr>\n",
              "  </thead>\n",
              "  <tbody>\n",
              "    <tr>\n",
              "      <th>0</th>\n",
              "      <td>9</td>\n",
              "      <td>24543</td>\n",
              "    </tr>\n",
              "    <tr>\n",
              "      <th>1</th>\n",
              "      <td>10</td>\n",
              "      <td>24518</td>\n",
              "    </tr>\n",
              "    <tr>\n",
              "      <th>2</th>\n",
              "      <td>8</td>\n",
              "      <td>23727</td>\n",
              "    </tr>\n",
              "    <tr>\n",
              "      <th>3</th>\n",
              "      <td>7</td>\n",
              "      <td>19064</td>\n",
              "    </tr>\n",
              "    <tr>\n",
              "      <th>4</th>\n",
              "      <td>6</td>\n",
              "      <td>12446</td>\n",
              "    </tr>\n",
              "    <tr>\n",
              "      <th>5</th>\n",
              "      <td>5</td>\n",
              "      <td>8548</td>\n",
              "    </tr>\n",
              "    <tr>\n",
              "      <th>6</th>\n",
              "      <td>4</td>\n",
              "      <td>5880</td>\n",
              "    </tr>\n",
              "    <tr>\n",
              "      <th>7</th>\n",
              "      <td>3</td>\n",
              "      <td>5726</td>\n",
              "    </tr>\n",
              "    <tr>\n",
              "      <th>8</th>\n",
              "      <td>2</td>\n",
              "      <td>3149</td>\n",
              "    </tr>\n",
              "    <tr>\n",
              "      <th>9</th>\n",
              "      <td>1</td>\n",
              "      <td>2916</td>\n",
              "    </tr>\n",
              "    <tr>\n",
              "      <th>10</th>\n",
              "      <td>11</td>\n",
              "      <td>1</td>\n",
              "    </tr>\n",
              "    <tr>\n",
              "      <th>11</th>\n",
              "      <td>0</td>\n",
              "      <td>1</td>\n",
              "    </tr>\n",
              "  </tbody>\n",
              "</table>\n",
              "</div>"
            ],
            "text/plain": [
              "    rating  Count\n",
              "0        9  24543\n",
              "1       10  24518\n",
              "2        8  23727\n",
              "3        7  19064\n",
              "4        6  12446\n",
              "5        5   8548\n",
              "6        4   5880\n",
              "7        3   5726\n",
              "8        2   3149\n",
              "9        1   2916\n",
              "10      11      1\n",
              "11       0      1"
            ]
          },
          "execution_count": 20,
          "metadata": {},
          "output_type": "execute_result"
        }
      ],
      "source": [
        "rating_split = pd.DataFrame(df3.score.value_counts())\n",
        "rating_split.reset_index(level=0,inplace=True)\n",
        "rating_split.columns = ['rating','Count']\n",
        "rating_split.head(20)"
      ]
    },
    {
      "cell_type": "code",
      "execution_count": null,
      "metadata": {
        "colab": {
          "base_uri": "https://localhost:8080/",
          "height": 404
        },
        "id": "QEILCP8OmR4a",
        "outputId": "4ae091bc-4af4-4b35-9075-83e24b377367"
      },
      "outputs": [
        {
          "data": {
            "image/png": "[encoded data removed]",
            "text/plain": [
              "<Figure size 864x432 with 1 Axes>"
            ]
          },
          "metadata": {
            "needs_background": "light"
          },
          "output_type": "display_data"
        }
      ],
      "source": [
        "plt.figure(figsize=(12, 6))\n",
        "plt.title('Rating Split in Anime Community')\n",
        "sns.barplot(x = 'rating', y = 'Count', data=rating_split);"
      ]
    },
    {
      "cell_type": "code",
      "execution_count": null,
      "metadata": {
        "colab": {
          "base_uri": "https://localhost:8080/",
          "height": 596
        },
        "id": "soEXeE55qFTY",
        "outputId": "97b5c4f5-a5d4-402d-9081-e8474ee7ebc3"
      },
      "outputs": [
        {
          "data": {
            "image/png": "[encoded data removed]",
            "text/plain": [
              "<Figure size 864x720 with 2 Axes>"
            ]
          },
          "metadata": {
            "needs_background": "light"
          },
          "output_type": "display_data"
        }
      ],
      "source": [
        "df1 = df1.rename(columns={'uid': 'anime_uid'})\n",
        "anime_df = pd.merge(df3, df1, on='anime_uid')\n",
        "columns = ['synopsis', 'aired', 'episodes','uid','members','scores','ranked', 'img_url','link_x','text','link_y']\n",
        "anime_df = anime_df.rename(columns={'score_x' :'rating' , 'score_y' : 'score'})\n",
        "anime_df['rating'] = anime_df[\"rating\"].values.astype(np.float32)\n",
        "anime_df = anime_df.drop(columns, axis=1)\n",
        "anime_df.head(20)\n",
        "\n",
        "plt.figure(figsize=(12,10))\n",
        "cor =anime_df.corr()\n",
        "sns.heatmap(cor, annot=True, cmap=plt.cm.Dark2)\n",
        "plt.show()"
      ]
    },
    {
      "cell_type": "markdown",
      "metadata": {
        "id": "6plOLWqvcrP_"
      },
      "source": [
        "# Preparing Data"
      ]
    },
    {
      "cell_type": "code",
      "execution_count": null,
      "metadata": {
        "colab": {
          "base_uri": "https://localhost:8080/",
          "height": 669
        },
        "id": "eWBeXlsvmiB_",
        "outputId": "5b707a8a-8eb2-4f4c-d5f8-b04b252c8c7c"
      },
      "outputs": [
        {
          "data": {
            "text/html": [
              "<div>\n",
              "<style scoped>\n",
              "    .dataframe tbody tr th:only-of-type {\n",
              "        vertical-align: middle;\n",
              "    }\n",
              "\n",
              "    .dataframe tbody tr th {\n",
              "        vertical-align: top;\n",
              "    }\n",
              "\n",
              "    .dataframe thead th {\n",
              "        text-align: right;\n",
              "    }\n",
              "</style>\n",
              "<table border=\"1\" class=\"dataframe\">\n",
              "  <thead>\n",
              "    <tr style=\"text-align: right;\">\n",
              "      <th></th>\n",
              "      <th>profile</th>\n",
              "      <th>anime_uid</th>\n",
              "      <th>rating</th>\n",
              "      <th>title</th>\n",
              "      <th>genre</th>\n",
              "      <th>score</th>\n",
              "    </tr>\n",
              "  </thead>\n",
              "  <tbody>\n",
              "    <tr>\n",
              "      <th>0</th>\n",
              "      <td>DesolatePsyche</td>\n",
              "      <td>34096</td>\n",
              "      <td>8.0</td>\n",
              "      <td>Gintama.</td>\n",
              "      <td>['Action', 'Comedy', 'Historical', 'Parody', '...</td>\n",
              "      <td>8.94</td>\n",
              "    </tr>\n",
              "    <tr>\n",
              "      <th>1</th>\n",
              "      <td>claudinou</td>\n",
              "      <td>34096</td>\n",
              "      <td>8.0</td>\n",
              "      <td>Gintama.</td>\n",
              "      <td>['Action', 'Comedy', 'Historical', 'Parody', '...</td>\n",
              "      <td>8.94</td>\n",
              "    </tr>\n",
              "    <tr>\n",
              "      <th>2</th>\n",
              "      <td>PeterFromRussia</td>\n",
              "      <td>34096</td>\n",
              "      <td>8.0</td>\n",
              "      <td>Gintama.</td>\n",
              "      <td>['Action', 'Comedy', 'Historical', 'Parody', '...</td>\n",
              "      <td>8.94</td>\n",
              "    </tr>\n",
              "    <tr>\n",
              "      <th>3</th>\n",
              "      <td>TheGostoso</td>\n",
              "      <td>34096</td>\n",
              "      <td>8.0</td>\n",
              "      <td>Gintama.</td>\n",
              "      <td>['Action', 'Comedy', 'Historical', 'Parody', '...</td>\n",
              "      <td>8.94</td>\n",
              "    </tr>\n",
              "    <tr>\n",
              "      <th>4</th>\n",
              "      <td>Theliel</td>\n",
              "      <td>34096</td>\n",
              "      <td>7.0</td>\n",
              "      <td>Gintama.</td>\n",
              "      <td>['Action', 'Comedy', 'Historical', 'Parody', '...</td>\n",
              "      <td>8.94</td>\n",
              "    </tr>\n",
              "    <tr>\n",
              "      <th>5</th>\n",
              "      <td>Injenss</td>\n",
              "      <td>34096</td>\n",
              "      <td>7.0</td>\n",
              "      <td>Gintama.</td>\n",
              "      <td>['Action', 'Comedy', 'Historical', 'Parody', '...</td>\n",
              "      <td>8.94</td>\n",
              "    </tr>\n",
              "    <tr>\n",
              "      <th>6</th>\n",
              "      <td>DavidTamir</td>\n",
              "      <td>34096</td>\n",
              "      <td>9.0</td>\n",
              "      <td>Gintama.</td>\n",
              "      <td>['Action', 'Comedy', 'Historical', 'Parody', '...</td>\n",
              "      <td>8.94</td>\n",
              "    </tr>\n",
              "    <tr>\n",
              "      <th>7</th>\n",
              "      <td>kokuborou</td>\n",
              "      <td>34096</td>\n",
              "      <td>10.0</td>\n",
              "      <td>Gintama.</td>\n",
              "      <td>['Action', 'Comedy', 'Historical', 'Parody', '...</td>\n",
              "      <td>8.94</td>\n",
              "    </tr>\n",
              "    <tr>\n",
              "      <th>8</th>\n",
              "      <td>agendator</td>\n",
              "      <td>34096</td>\n",
              "      <td>4.0</td>\n",
              "      <td>Gintama.</td>\n",
              "      <td>['Action', 'Comedy', 'Historical', 'Parody', '...</td>\n",
              "      <td>8.94</td>\n",
              "    </tr>\n",
              "    <tr>\n",
              "      <th>9</th>\n",
              "      <td>ilovendut</td>\n",
              "      <td>34096</td>\n",
              "      <td>10.0</td>\n",
              "      <td>Gintama.</td>\n",
              "      <td>['Action', 'Comedy', 'Historical', 'Parody', '...</td>\n",
              "      <td>8.94</td>\n",
              "    </tr>\n",
              "    <tr>\n",
              "      <th>10</th>\n",
              "      <td>RuujiHasegawa</td>\n",
              "      <td>34096</td>\n",
              "      <td>10.0</td>\n",
              "      <td>Gintama.</td>\n",
              "      <td>['Action', 'Comedy', 'Historical', 'Parody', '...</td>\n",
              "      <td>8.94</td>\n",
              "    </tr>\n",
              "    <tr>\n",
              "      <th>11</th>\n",
              "      <td>Tyrel</td>\n",
              "      <td>34096</td>\n",
              "      <td>8.0</td>\n",
              "      <td>Gintama.</td>\n",
              "      <td>['Action', 'Comedy', 'Historical', 'Parody', '...</td>\n",
              "      <td>8.94</td>\n",
              "    </tr>\n",
              "    <tr>\n",
              "      <th>12</th>\n",
              "      <td>winte321</td>\n",
              "      <td>34096</td>\n",
              "      <td>10.0</td>\n",
              "      <td>Gintama.</td>\n",
              "      <td>['Action', 'Comedy', 'Historical', 'Parody', '...</td>\n",
              "      <td>8.94</td>\n",
              "    </tr>\n",
              "    <tr>\n",
              "      <th>13</th>\n",
              "      <td>bramve</td>\n",
              "      <td>34096</td>\n",
              "      <td>7.0</td>\n",
              "      <td>Gintama.</td>\n",
              "      <td>['Action', 'Comedy', 'Historical', 'Parody', '...</td>\n",
              "      <td>8.94</td>\n",
              "    </tr>\n",
              "    <tr>\n",
              "      <th>14</th>\n",
              "      <td>gagan5867</td>\n",
              "      <td>34096</td>\n",
              "      <td>9.0</td>\n",
              "      <td>Gintama.</td>\n",
              "      <td>['Action', 'Comedy', 'Historical', 'Parody', '...</td>\n",
              "      <td>8.94</td>\n",
              "    </tr>\n",
              "    <tr>\n",
              "      <th>15</th>\n",
              "      <td>Sterps</td>\n",
              "      <td>34096</td>\n",
              "      <td>10.0</td>\n",
              "      <td>Gintama.</td>\n",
              "      <td>['Action', 'Comedy', 'Historical', 'Parody', '...</td>\n",
              "      <td>8.94</td>\n",
              "    </tr>\n",
              "    <tr>\n",
              "      <th>16</th>\n",
              "      <td>_alpha-q_</td>\n",
              "      <td>34096</td>\n",
              "      <td>6.0</td>\n",
              "      <td>Gintama.</td>\n",
              "      <td>['Action', 'Comedy', 'Historical', 'Parody', '...</td>\n",
              "      <td>8.94</td>\n",
              "    </tr>\n",
              "    <tr>\n",
              "      <th>17</th>\n",
              "      <td>baekbeans</td>\n",
              "      <td>34599</td>\n",
              "      <td>10.0</td>\n",
              "      <td>Made in Abyss</td>\n",
              "      <td>['Sci-Fi', 'Adventure', 'Mystery', 'Drama', 'F...</td>\n",
              "      <td>8.83</td>\n",
              "    </tr>\n",
              "    <tr>\n",
              "      <th>18</th>\n",
              "      <td>Eanki</td>\n",
              "      <td>34599</td>\n",
              "      <td>8.0</td>\n",
              "      <td>Made in Abyss</td>\n",
              "      <td>['Sci-Fi', 'Adventure', 'Mystery', 'Drama', 'F...</td>\n",
              "      <td>8.83</td>\n",
              "    </tr>\n",
              "    <tr>\n",
              "      <th>19</th>\n",
              "      <td>NekoKyupi</td>\n",
              "      <td>34599</td>\n",
              "      <td>9.0</td>\n",
              "      <td>Made in Abyss</td>\n",
              "      <td>['Sci-Fi', 'Adventure', 'Mystery', 'Drama', 'F...</td>\n",
              "      <td>8.83</td>\n",
              "    </tr>\n",
              "  </tbody>\n",
              "</table>\n",
              "</div>"
            ],
            "text/plain": [
              "            profile  ...  score\n",
              "0    DesolatePsyche  ...   8.94\n",
              "1         claudinou  ...   8.94\n",
              "2   PeterFromRussia  ...   8.94\n",
              "3        TheGostoso  ...   8.94\n",
              "4           Theliel  ...   8.94\n",
              "5           Injenss  ...   8.94\n",
              "6        DavidTamir  ...   8.94\n",
              "7         kokuborou  ...   8.94\n",
              "8         agendator  ...   8.94\n",
              "9         ilovendut  ...   8.94\n",
              "10    RuujiHasegawa  ...   8.94\n",
              "11            Tyrel  ...   8.94\n",
              "12         winte321  ...   8.94\n",
              "13           bramve  ...   8.94\n",
              "14        gagan5867  ...   8.94\n",
              "15           Sterps  ...   8.94\n",
              "16        _alpha-q_  ...   8.94\n",
              "17        baekbeans  ...   8.83\n",
              "18            Eanki  ...   8.83\n",
              "19        NekoKyupi  ...   8.83\n",
              "\n",
              "[20 rows x 6 columns]"
            ]
          },
          "execution_count": 23,
          "metadata": {},
          "output_type": "execute_result"
        }
      ],
      "source": [
        "df1 = df1.rename(columns={'uid': 'anime_uid'})\n",
        "anime_rating = pd.merge(df3, df1, on='anime_uid')\n",
        "columns = ['synopsis', 'aired', 'episodes','uid','scores','members','popularity', 'img_url','link_x','text','ranked','link_y']\n",
        "anime_rating = anime_rating.rename(columns={'score_x' :'rating' , 'score_y' : 'score'})\n",
        "anime_rating['rating'] = anime_rating[\"rating\"].values.astype(np.float32)\n",
        "anime_rating = anime_rating.drop(columns, axis=1)\n",
        "anime_rating.head(20)"
      ]
    },
    {
      "cell_type": "code",
      "execution_count": null,
      "metadata": {
        "colab": {
          "base_uri": "https://localhost:8080/",
          "height": 359
        },
        "id": "NCdoL2Thm-Bj",
        "outputId": "644fd8c4-932d-4886-f8c4-90001d3fd964"
      },
      "outputs": [
        {
          "data": {
            "text/html": [
              "<div>\n",
              "<style scoped>\n",
              "    .dataframe tbody tr th:only-of-type {\n",
              "        vertical-align: middle;\n",
              "    }\n",
              "\n",
              "    .dataframe tbody tr th {\n",
              "        vertical-align: top;\n",
              "    }\n",
              "\n",
              "    .dataframe thead th {\n",
              "        text-align: right;\n",
              "    }\n",
              "</style>\n",
              "<table border=\"1\" class=\"dataframe\">\n",
              "  <thead>\n",
              "    <tr style=\"text-align: right;\">\n",
              "      <th></th>\n",
              "      <th>profile</th>\n",
              "      <th>anime_uid</th>\n",
              "      <th>rating</th>\n",
              "      <th>title</th>\n",
              "      <th>genre</th>\n",
              "      <th>score</th>\n",
              "      <th>target</th>\n",
              "    </tr>\n",
              "  </thead>\n",
              "  <tbody>\n",
              "    <tr>\n",
              "      <th>0</th>\n",
              "      <td>DesolatePsyche</td>\n",
              "      <td>34096</td>\n",
              "      <td>8.0</td>\n",
              "      <td>Gintama.</td>\n",
              "      <td>['Action', 'Comedy', 'Historical', 'Parody', '...</td>\n",
              "      <td>8.94</td>\n",
              "      <td>1</td>\n",
              "    </tr>\n",
              "    <tr>\n",
              "      <th>1</th>\n",
              "      <td>claudinou</td>\n",
              "      <td>34096</td>\n",
              "      <td>8.0</td>\n",
              "      <td>Gintama.</td>\n",
              "      <td>['Action', 'Comedy', 'Historical', 'Parody', '...</td>\n",
              "      <td>8.94</td>\n",
              "      <td>1</td>\n",
              "    </tr>\n",
              "    <tr>\n",
              "      <th>2</th>\n",
              "      <td>PeterFromRussia</td>\n",
              "      <td>34096</td>\n",
              "      <td>8.0</td>\n",
              "      <td>Gintama.</td>\n",
              "      <td>['Action', 'Comedy', 'Historical', 'Parody', '...</td>\n",
              "      <td>8.94</td>\n",
              "      <td>1</td>\n",
              "    </tr>\n",
              "    <tr>\n",
              "      <th>3</th>\n",
              "      <td>TheGostoso</td>\n",
              "      <td>34096</td>\n",
              "      <td>8.0</td>\n",
              "      <td>Gintama.</td>\n",
              "      <td>['Action', 'Comedy', 'Historical', 'Parody', '...</td>\n",
              "      <td>8.94</td>\n",
              "      <td>1</td>\n",
              "    </tr>\n",
              "    <tr>\n",
              "      <th>4</th>\n",
              "      <td>Theliel</td>\n",
              "      <td>34096</td>\n",
              "      <td>7.0</td>\n",
              "      <td>Gintama.</td>\n",
              "      <td>['Action', 'Comedy', 'Historical', 'Parody', '...</td>\n",
              "      <td>8.94</td>\n",
              "      <td>1</td>\n",
              "    </tr>\n",
              "    <tr>\n",
              "      <th>5</th>\n",
              "      <td>Injenss</td>\n",
              "      <td>34096</td>\n",
              "      <td>7.0</td>\n",
              "      <td>Gintama.</td>\n",
              "      <td>['Action', 'Comedy', 'Historical', 'Parody', '...</td>\n",
              "      <td>8.94</td>\n",
              "      <td>1</td>\n",
              "    </tr>\n",
              "    <tr>\n",
              "      <th>6</th>\n",
              "      <td>DavidTamir</td>\n",
              "      <td>34096</td>\n",
              "      <td>9.0</td>\n",
              "      <td>Gintama.</td>\n",
              "      <td>['Action', 'Comedy', 'Historical', 'Parody', '...</td>\n",
              "      <td>8.94</td>\n",
              "      <td>1</td>\n",
              "    </tr>\n",
              "    <tr>\n",
              "      <th>7</th>\n",
              "      <td>kokuborou</td>\n",
              "      <td>34096</td>\n",
              "      <td>10.0</td>\n",
              "      <td>Gintama.</td>\n",
              "      <td>['Action', 'Comedy', 'Historical', 'Parody', '...</td>\n",
              "      <td>8.94</td>\n",
              "      <td>1</td>\n",
              "    </tr>\n",
              "    <tr>\n",
              "      <th>8</th>\n",
              "      <td>agendator</td>\n",
              "      <td>34096</td>\n",
              "      <td>4.0</td>\n",
              "      <td>Gintama.</td>\n",
              "      <td>['Action', 'Comedy', 'Historical', 'Parody', '...</td>\n",
              "      <td>8.94</td>\n",
              "      <td>0</td>\n",
              "    </tr>\n",
              "    <tr>\n",
              "      <th>9</th>\n",
              "      <td>ilovendut</td>\n",
              "      <td>34096</td>\n",
              "      <td>10.0</td>\n",
              "      <td>Gintama.</td>\n",
              "      <td>['Action', 'Comedy', 'Historical', 'Parody', '...</td>\n",
              "      <td>8.94</td>\n",
              "      <td>1</td>\n",
              "    </tr>\n",
              "  </tbody>\n",
              "</table>\n",
              "</div>"
            ],
            "text/plain": [
              "           profile  anime_uid  ...  score target\n",
              "0   DesolatePsyche      34096  ...   8.94      1\n",
              "1        claudinou      34096  ...   8.94      1\n",
              "2  PeterFromRussia      34096  ...   8.94      1\n",
              "3       TheGostoso      34096  ...   8.94      1\n",
              "4          Theliel      34096  ...   8.94      1\n",
              "5          Injenss      34096  ...   8.94      1\n",
              "6       DavidTamir      34096  ...   8.94      1\n",
              "7        kokuborou      34096  ...   8.94      1\n",
              "8        agendator      34096  ...   8.94      0\n",
              "9        ilovendut      34096  ...   8.94      1\n",
              "\n",
              "[10 rows x 7 columns]"
            ]
          },
          "execution_count": 24,
          "metadata": {},
          "output_type": "execute_result"
        }
      ],
      "source": [
        "conditions = [(anime_rating['rating'] <= 4) , (anime_rating['rating'] > 4)]\n",
        "values = [0,1]\n",
        "anime_rating['target'] = np.select(conditions, values)\n",
        "anime_rating.head(10)"
      ]
    },
    {
      "cell_type": "markdown",
      "metadata": {
        "id": "oqaWB2kHGgN0"
      },
      "source": [
        "- Tranform "
      ]
    },
    {
      "cell_type": "code",
      "execution_count": null,
      "metadata": {
        "id": "geapFNtxiAo1"
      },
      "outputs": [],
      "source": [
        "user_ids = anime_rating[\"profile\"].unique().tolist()\n",
        "user_ids.sort()\n",
        "encodedUsertoUser = {x: i for i, x in enumerate(user_ids)}\n",
        "anime_ids = anime_rating[\"anime_uid\"].unique().tolist()\n",
        "#encodedAnimetoAnime = {x: i for i, x in enumerate(anime_ids)}\n",
        "anime_rating[\"user\"] = anime_rating[\"profile\"].map(encodedUsertoUser)\n",
        "#anime_rating[\"anime\"] = anime_rating[\"anime_uid\"].map(encodedAnimetoAnime)\n"
      ]
    },
    {
      "cell_type": "code",
      "execution_count": null,
      "metadata": {
        "colab": {
          "base_uri": "https://localhost:8080/",
          "height": 419
        },
        "id": "Gaa2yzC9qZ9o",
        "outputId": "a63b549a-dad7-407f-95d9-52c5956bbc9a"
      },
      "outputs": [
        {
          "data": {
            "text/html": [
              "<div>\n",
              "<style scoped>\n",
              "    .dataframe tbody tr th:only-of-type {\n",
              "        vertical-align: middle;\n",
              "    }\n",
              "\n",
              "    .dataframe tbody tr th {\n",
              "        vertical-align: top;\n",
              "    }\n",
              "\n",
              "    .dataframe thead th {\n",
              "        text-align: right;\n",
              "    }\n",
              "</style>\n",
              "<table border=\"1\" class=\"dataframe\">\n",
              "  <thead>\n",
              "    <tr style=\"text-align: right;\">\n",
              "      <th></th>\n",
              "      <th>profile</th>\n",
              "      <th>anime_uid</th>\n",
              "      <th>rating</th>\n",
              "      <th>title</th>\n",
              "      <th>genre</th>\n",
              "      <th>score</th>\n",
              "      <th>target</th>\n",
              "      <th>user</th>\n",
              "    </tr>\n",
              "  </thead>\n",
              "  <tbody>\n",
              "    <tr>\n",
              "      <th>0</th>\n",
              "      <td>DesolatePsyche</td>\n",
              "      <td>34096</td>\n",
              "      <td>8.0</td>\n",
              "      <td>Gintama.</td>\n",
              "      <td>['Action', 'Comedy', 'Historical', 'Parody', '...</td>\n",
              "      <td>8.94</td>\n",
              "      <td>1</td>\n",
              "      <td>6837</td>\n",
              "    </tr>\n",
              "    <tr>\n",
              "      <th>1</th>\n",
              "      <td>claudinou</td>\n",
              "      <td>34096</td>\n",
              "      <td>8.0</td>\n",
              "      <td>Gintama.</td>\n",
              "      <td>['Action', 'Comedy', 'Historical', 'Parody', '...</td>\n",
              "      <td>8.94</td>\n",
              "      <td>1</td>\n",
              "      <td>33673</td>\n",
              "    </tr>\n",
              "    <tr>\n",
              "      <th>2</th>\n",
              "      <td>PeterFromRussia</td>\n",
              "      <td>34096</td>\n",
              "      <td>8.0</td>\n",
              "      <td>Gintama.</td>\n",
              "      <td>['Action', 'Comedy', 'Historical', 'Parody', '...</td>\n",
              "      <td>8.94</td>\n",
              "      <td>1</td>\n",
              "      <td>20650</td>\n",
              "    </tr>\n",
              "    <tr>\n",
              "      <th>3</th>\n",
              "      <td>TheGostoso</td>\n",
              "      <td>34096</td>\n",
              "      <td>8.0</td>\n",
              "      <td>Gintama.</td>\n",
              "      <td>['Action', 'Comedy', 'Historical', 'Parody', '...</td>\n",
              "      <td>8.94</td>\n",
              "      <td>1</td>\n",
              "      <td>27090</td>\n",
              "    </tr>\n",
              "    <tr>\n",
              "      <th>4</th>\n",
              "      <td>Theliel</td>\n",
              "      <td>34096</td>\n",
              "      <td>7.0</td>\n",
              "      <td>Gintama.</td>\n",
              "      <td>['Action', 'Comedy', 'Historical', 'Parody', '...</td>\n",
              "      <td>8.94</td>\n",
              "      <td>1</td>\n",
              "      <td>27458</td>\n",
              "    </tr>\n",
              "    <tr>\n",
              "      <th>...</th>\n",
              "      <td>...</td>\n",
              "      <td>...</td>\n",
              "      <td>...</td>\n",
              "      <td>...</td>\n",
              "      <td>...</td>\n",
              "      <td>...</td>\n",
              "      <td>...</td>\n",
              "      <td>...</td>\n",
              "    </tr>\n",
              "    <tr>\n",
              "      <th>95</th>\n",
              "      <td>Rulerofpie</td>\n",
              "      <td>34599</td>\n",
              "      <td>9.0</td>\n",
              "      <td>Made in Abyss</td>\n",
              "      <td>['Sci-Fi', 'Adventure', 'Mystery', 'Drama', 'F...</td>\n",
              "      <td>8.83</td>\n",
              "      <td>1</td>\n",
              "      <td>22903</td>\n",
              "    </tr>\n",
              "    <tr>\n",
              "      <th>96</th>\n",
              "      <td>Anomanderake</td>\n",
              "      <td>34599</td>\n",
              "      <td>9.0</td>\n",
              "      <td>Made in Abyss</td>\n",
              "      <td>['Sci-Fi', 'Adventure', 'Mystery', 'Drama', 'F...</td>\n",
              "      <td>8.83</td>\n",
              "      <td>1</td>\n",
              "      <td>2182</td>\n",
              "    </tr>\n",
              "    <tr>\n",
              "      <th>97</th>\n",
              "      <td>silverkoibito</td>\n",
              "      <td>34599</td>\n",
              "      <td>9.0</td>\n",
              "      <td>Made in Abyss</td>\n",
              "      <td>['Sci-Fi', 'Adventure', 'Mystery', 'Drama', 'F...</td>\n",
              "      <td>8.83</td>\n",
              "      <td>1</td>\n",
              "      <td>44435</td>\n",
              "    </tr>\n",
              "    <tr>\n",
              "      <th>98</th>\n",
              "      <td>Gabrielarcha</td>\n",
              "      <td>34599</td>\n",
              "      <td>10.0</td>\n",
              "      <td>Made in Abyss</td>\n",
              "      <td>['Sci-Fi', 'Adventure', 'Mystery', 'Drama', 'F...</td>\n",
              "      <td>8.83</td>\n",
              "      <td>1</td>\n",
              "      <td>9533</td>\n",
              "    </tr>\n",
              "    <tr>\n",
              "      <th>99</th>\n",
              "      <td>Demon1Ce</td>\n",
              "      <td>34599</td>\n",
              "      <td>9.0</td>\n",
              "      <td>Made in Abyss</td>\n",
              "      <td>['Sci-Fi', 'Adventure', 'Mystery', 'Drama', 'F...</td>\n",
              "      <td>8.83</td>\n",
              "      <td>1</td>\n",
              "      <td>6750</td>\n",
              "    </tr>\n",
              "  </tbody>\n",
              "</table>\n",
              "<p>100 rows × 8 columns</p>\n",
              "</div>"
            ],
            "text/plain": [
              "            profile  anime_uid  rating  ... score target   user\n",
              "0    DesolatePsyche      34096     8.0  ...  8.94      1   6837\n",
              "1         claudinou      34096     8.0  ...  8.94      1  33673\n",
              "2   PeterFromRussia      34096     8.0  ...  8.94      1  20650\n",
              "3        TheGostoso      34096     8.0  ...  8.94      1  27090\n",
              "4           Theliel      34096     7.0  ...  8.94      1  27458\n",
              "..              ...        ...     ...  ...   ...    ...    ...\n",
              "95       Rulerofpie      34599     9.0  ...  8.83      1  22903\n",
              "96     Anomanderake      34599     9.0  ...  8.83      1   2182\n",
              "97    silverkoibito      34599     9.0  ...  8.83      1  44435\n",
              "98     Gabrielarcha      34599    10.0  ...  8.83      1   9533\n",
              "99         Demon1Ce      34599     9.0  ...  8.83      1   6750\n",
              "\n",
              "[100 rows x 8 columns]"
            ]
          },
          "execution_count": 26,
          "metadata": {},
          "output_type": "execute_result"
        }
      ],
      "source": [
        "anime_rating.head(100)"
      ]
    },
    {
      "cell_type": "code",
      "execution_count": null,
      "metadata": {
        "id": "AL1c6G2wGAk2"
      },
      "outputs": [],
      "source": [
        "encoder = LabelEncoder()\n",
        "genreLabel = encoder.fit_transform(anime_rating['genre'])\n",
        "mapGenre = {x: i for i, x in enumerate(encoder.classes_) }\n",
        "anime_rating['genreLabel'] = genreLabel"
      ]
    },
    {
      "cell_type": "code",
      "execution_count": null,
      "metadata": {
        "id": "2l_NVKsUvCLZ"
      },
      "outputs": [],
      "source": [
        "feature = anime_rating[['anime_uid', 'score', 'user','genreLabel']]\n",
        "label = anime_rating['target']\n",
        "X_train, X_test, y_train, y_test = train_test_split(feature,label,test_size=0.2,random_state=42)"
      ]
    },
    {
      "cell_type": "code",
      "execution_count": null,
      "metadata": {
        "id": "A9saMwCrdu0N"
      },
      "outputs": [],
      "source": [
        "# validation \n",
        "# X_val , X_test , y_val , y_test = train_test_split(X_test,y_test,test_size=0.3, random_state=42)"
      ]
    },
    {
      "cell_type": "code",
      "execution_count": null,
      "metadata": {
        "colab": {
          "base_uri": "https://localhost:8080/"
        },
        "id": "BHnp0i0amDVK",
        "outputId": "6c93169e-35a4-4057-a69a-8593b30c078e"
      },
      "outputs": [
        {
          "data": {
            "text/plain": [
              "RandomForestClassifier(random_state=42)"
            ]
          },
          "execution_count": 30,
          "metadata": {},
          "output_type": "execute_result"
        }
      ],
      "source": [
        "forest = RandomForestClassifier(random_state=42)\n",
        "forest.fit(X_train, y_train)"
      ]
    },
    {
      "cell_type": "code",
      "execution_count": null,
      "metadata": {
        "colab": {
          "base_uri": "https://localhost:8080/",
          "height": 461
        },
        "id": "SV0yPW1j2CGR",
        "outputId": "fbeada0e-4705-42f2-d327-fe4fb6195214"
      },
      "outputs": [
        {
          "name": "stdout",
          "output_type": "stream",
          "text": [
            "Feature:  anime_uid \tScore: 0.09179\n",
            "Feature:  score \tScore: 0.16597\n",
            "Feature:  user \tScore: 0.65757\n",
            "Feature:  genreLabel \tScore: 0.08467\n"
          ]
        },
        {
          "data": {
            "image/png": "[encoded data removed]",
            "text/plain": [
              "<Figure size 576x432 with 1 Axes>"
            ]
          },
          "metadata": {
            "needs_background": "light"
          },
          "output_type": "display_data"
        }
      ],
      "source": [
        "importance = forest.feature_importances_\n",
        "for i,v in zip(feature.columns , importance):\n",
        "\tprint('Feature: ',i, '\\tScore: %.5f' % (v))\n",
        "fig = plt.figure(figsize=(8, 6))\n",
        "plt.barh([x for x in range(len(importance))], importance)\n",
        "plt.yticks([x for x in range(len(importance))],feature.columns,fontsize = '10') \n",
        "plt.xticks(fontsize = '10')\n",
        "plt.xlabel(\"Feature importance\",fontsize = '15')\n",
        "plt.ylabel(\"Feature\",fontsize = '15')\n",
        "plt.show()"
      ]
    },
    {
      "cell_type": "markdown",
      "metadata": {
        "id": "sHfIn_xcGzbM"
      },
      "source": [
        "# Algorithm  RandomForest"
      ]
    },
    {
      "cell_type": "code",
      "execution_count": null,
      "metadata": {
        "colab": {
          "base_uri": "https://localhost:8080/"
        },
        "id": "7WxUSfRJ1YKG",
        "outputId": "9b0e1f44-3fbd-48f6-ebb4-4166400ff088"
      },
      "outputs": [
        {
          "name": "stdout",
          "output_type": "stream",
          "text": [
            "Accuracy on training set: 1.000\n",
            "Accuracy on test set: 0.824\n"
          ]
        }
      ],
      "source": [
        "forest = RandomForestClassifier(n_estimators=100,random_state=42)\n",
        "forest.fit(X_train, y_train)\n",
        "\n",
        "print(\"Accuracy on training set: {:.3f}\".format(forest.score(X_train, y_train)))\n",
        "print(\"Accuracy on test set: {:.3f}\".format(forest.score(X_test, y_test)))"
      ]
    },
    {
      "cell_type": "code",
      "execution_count": null,
      "metadata": {
        "id": "pu1iEJ25ZUfl"
      },
      "outputs": [],
      "source": [
        "def print_results(results):\n",
        "  print('BEST PARAMS: {}' .format(results.best_params_))\n",
        "  print('BEST cross-validation score: {:.2f}\\n' .format(results.best_score_))\n",
        "  means = results.cv_results_['mean_test_score']\n",
        "  stds = results.cv_results_['std_test_score']\n",
        "  for mean, std, params in zip(means, stds,results.cv_results_['params']):\n",
        "    print('{} (+/-{}) for {}'.format(round(mean, 3), round(std * 2, 3),params))"
      ]
    },
    {
      "cell_type": "code",
      "execution_count": null,
      "metadata": {
        "colab": {
          "base_uri": "https://localhost:8080/"
        },
        "id": "v_t5MT7nUCEq",
        "outputId": "ceac6909-2dd2-464c-98dd-e3ea441a1031"
      },
      "outputs": [
        {
          "name": "stdout",
          "output_type": "stream",
          "text": [
            "BEST PARAMS: {'max_depth': 10, 'n_estimators': 100}\n",
            "BEST cross-validation score: 0.87\n",
            "\n",
            "0.87 (+/-0.001) for {'max_depth': 10, 'n_estimators': 50}\n",
            "0.87 (+/-0.001) for {'max_depth': 10, 'n_estimators': 100}\n",
            "0.857 (+/-0.003) for {'max_depth': 20, 'n_estimators': 50}\n",
            "0.857 (+/-0.003) for {'max_depth': 20, 'n_estimators': 100}\n",
            "0.824 (+/-0.003) for {'max_depth': None, 'n_estimators': 50}\n",
            "0.824 (+/-0.003) for {'max_depth': None, 'n_estimators': 100}\n"
          ]
        }
      ],
      "source": [
        "rf = RandomForestClassifier(random_state = 42)\n",
        "parameters = {'n_estimators': [50,100],'max_depth': [10,20,None]}\n",
        "rf_cv = GridSearchCV(rf, parameters, cv=5)\n",
        "rf_cv.fit(X_train, y_train.values.ravel())\n",
        "print_results(rf_cv)"
      ]
    },
    {
      "cell_type": "code",
      "execution_count": null,
      "metadata": {
        "colab": {
          "base_uri": "https://localhost:8080/"
        },
        "id": "CLygNwvnwLjq",
        "outputId": "03f672e0-3747-4da7-dc93-823ad5a41d15"
      },
      "outputs": [
        {
          "name": "stdout",
          "output_type": "stream",
          "text": [
            "Accuracy on training set: 0.876\n",
            "Accuracy on test set: 0.873\n"
          ]
        }
      ],
      "source": [
        "forest = RandomForestClassifier(n_estimators=100,max_depth= 10,random_state=42)\n",
        "forest.fit(X_train, y_train)\n",
        "\n",
        "print(\"Accuracy on training set: {:.3f}\".format(forest.score(X_train, y_train)))\n",
        "print(\"Accuracy on test set: {:.3f}\".format(forest.score(X_test, y_test)))"
      ]
    },
    {
      "cell_type": "markdown",
      "metadata": {
        "id": "mzAi8SNKG_AX"
      },
      "source": [
        "# MLP"
      ]
    },
    {
      "cell_type": "code",
      "execution_count": null,
      "metadata": {
        "colab": {
          "base_uri": "https://localhost:8080/"
        },
        "id": "os7BZt6GS3n0",
        "outputId": "90e1910d-b1ca-47fc-eae7-e6ad677b104e"
      },
      "outputs": [
        {
          "name": "stderr",
          "output_type": "stream",
          "text": [
            "/usr/local/lib/python3.7/dist-packages/sklearn/neural_network/_multilayer_perceptron.py:696: ConvergenceWarning: Stochastic Optimizer: Maximum iterations (200) reached and the optimization hasn't converged yet.\n",
            "  ConvergenceWarning,\n"
          ]
        },
        {
          "name": "stdout",
          "output_type": "stream",
          "text": [
            "Accuracy on training set: 0.865\n",
            "Accuracy on test set: 0.869\n"
          ]
        }
      ],
      "source": [
        "mlp = MLPClassifier(random_state = 42)\n",
        "mlp.fit(X_train,y_train)\n",
        "print(\"Accuracy on training set: {:.3f}\".format(mlp.score(X_train, y_train)))\n",
        "print(\"Accuracy on test set: {:.3f}\".format(mlp.score(X_test, y_test)))"
      ]
    },
    {
      "cell_type": "code",
      "execution_count": null,
      "metadata": {
        "colab": {
          "base_uri": "https://localhost:8080/"
        },
        "id": "F7IK5AX-YCco",
        "outputId": "52133a96-d203-4afe-f679-f9ad2b79ac63"
      },
      "outputs": [
        {
          "name": "stdout",
          "output_type": "stream",
          "text": [
            "BEST PARAMS: {'alpha': 0.01, 'hidden_layer_sizes': (50,)}\n",
            "BEST cross-validation score: 0.85\n",
            "\n",
            "0.785 (+/-0.2) for {'alpha': 1.0, 'hidden_layer_sizes': (10,)}\n",
            "0.714 (+/-0.332) for {'alpha': 1.0, 'hidden_layer_sizes': (50,)}\n",
            "0.781 (+/-0.155) for {'alpha': 0.1, 'hidden_layer_sizes': (10,)}\n",
            "0.709 (+/-0.336) for {'alpha': 0.1, 'hidden_layer_sizes': (50,)}\n",
            "0.773 (+/-0.219) for {'alpha': 0.01, 'hidden_layer_sizes': (10,)}\n",
            "0.853 (+/-0.044) for {'alpha': 0.01, 'hidden_layer_sizes': (50,)}\n"
          ]
        }
      ],
      "source": [
        "nn = MLPClassifier(random_state = 42)\n",
        "parameters = {'hidden_layer_sizes' : [(10,),(50,)],'alpha' : [(1.000),(0.100),(0.010)]}\n",
        "nn_cv = GridSearchCV(nn, parameters, cv=5)\n",
        "nn_cv.fit(X_train, y_train.values.ravel())\n",
        "print_results(nn_cv)"
      ]
    },
    {
      "cell_type": "code",
      "execution_count": null,
      "metadata": {
        "colab": {
          "base_uri": "https://localhost:8080/"
        },
        "id": "YUDo0xNSaYp_",
        "outputId": "a622d6b8-d87d-45fe-8ad5-2fef8874b360"
      },
      "outputs": [
        {
          "name": "stdout",
          "output_type": "stream",
          "text": [
            "Accuracy on training set: 0.864\n",
            "Accuracy on test set: 0.868\n"
          ]
        }
      ],
      "source": [
        "mlp = MLPClassifier(alpha = 0.01, random_state = 42,hidden_layer_sizes=[50,50])\n",
        "mlp.fit(X_train,y_train)\n",
        "print(\"Accuracy on training set: {:.3f}\".format(mlp.score(X_train, y_train)))\n",
        "print(\"Accuracy on test set: {:.3f}\".format(mlp.score(X_test, y_test)))"
      ]
    },
    {
      "cell_type": "code",
      "execution_count": null,
      "metadata": {
        "colab": {
          "base_uri": "https://localhost:8080/"
        },
        "id": "PcdvZwrzd_7C",
        "outputId": "e8c07ae6-ad27-4ecb-f02c-30faea5b6196"
      },
      "outputs": [
        {
          "name": "stdout",
          "output_type": "stream",
          "text": [
            "Test score 0.873\n",
            "f1 score Random Forest 0.931\n",
            "\n",
            "Random Forest\n",
            "[[  360  3127]\n",
            " [  218 22669]]\n",
            "\n",
            "              precision    recall  f1-score   support\n",
            "\n",
            "    not like       0.62      0.10      0.18      3487\n",
            "        like       0.88      0.99      0.93     22887\n",
            "\n",
            "    accuracy                           0.87     26374\n",
            "   macro avg       0.75      0.55      0.55     26374\n",
            "weighted avg       0.84      0.87      0.83     26374\n",
            "\n"
          ]
        }
      ],
      "source": [
        "pred_rf = forest.predict(X_test)\n",
        "print('Test score {:.3f}'.format(forest.score(X_test,y_test)))\n",
        "print('f1 score Random Forest {:.3f}'.format(f1_score(y_test,pred_rf)))\n",
        "print('\\nRandom Forest')\n",
        "print(confusion_matrix(y_test,pred_rf))\n",
        "print()\n",
        "print(classification_report(y_test,pred_rf,target_names=['not like' , 'like']))"
      ]
    },
    {
      "cell_type": "code",
      "execution_count": null,
      "metadata": {
        "colab": {
          "base_uri": "https://localhost:8080/"
        },
        "id": "9iylwJMrg4xU",
        "outputId": "66d8b46a-eccb-43dd-a01e-baf88edde2b1"
      },
      "outputs": [
        {
          "name": "stdout",
          "output_type": "stream",
          "text": [
            "Test score 0.868\n",
            "f1 score Random Forest 0.929\n",
            "\n",
            "Neural network\n",
            "[[    0  3487]\n",
            " [    0 22887]]\n",
            "\n",
            "              precision    recall  f1-score   support\n",
            "\n",
            "    not like       0.00      0.00      0.00      3487\n",
            "        like       0.87      1.00      0.93     22887\n",
            "\n",
            "    accuracy                           0.87     26374\n",
            "   macro avg       0.43      0.50      0.46     26374\n",
            "weighted avg       0.75      0.87      0.81     26374\n",
            "\n"
          ]
        },
        {
          "name": "stderr",
          "output_type": "stream",
          "text": [
            "/usr/local/lib/python3.7/dist-packages/sklearn/metrics/_classification.py:1308: UndefinedMetricWarning: Precision and F-score are ill-defined and being set to 0.0 in labels with no predicted samples. Use `zero_division` parameter to control this behavior.\n",
            "  _warn_prf(average, modifier, msg_start, len(result))\n",
            "/usr/local/lib/python3.7/dist-packages/sklearn/metrics/_classification.py:1308: UndefinedMetricWarning: Precision and F-score are ill-defined and being set to 0.0 in labels with no predicted samples. Use `zero_division` parameter to control this behavior.\n",
            "  _warn_prf(average, modifier, msg_start, len(result))\n",
            "/usr/local/lib/python3.7/dist-packages/sklearn/metrics/_classification.py:1308: UndefinedMetricWarning: Precision and F-score are ill-defined and being set to 0.0 in labels with no predicted samples. Use `zero_division` parameter to control this behavior.\n",
            "  _warn_prf(average, modifier, msg_start, len(result))\n"
          ]
        }
      ],
      "source": [
        "pred_mlp = mlp.predict(X_test)\n",
        "print('Test score {:.3f}'.format(mlp.score(X_test,y_test)))\n",
        "print('f1 score Random Forest {:.3f}'.format(f1_score(y_test,pred_mlp)))\n",
        "print('\\nNeural network')\n",
        "print(confusion_matrix(y_test,pred_mlp))\n",
        "print()\n",
        "print(classification_report(y_test,pred_mlp,target_names=['not like' , 'like']))"
      ]
    },
    {
      "cell_type": "markdown",
      "metadata": {
        "id": "lG97Hs9rZFG9"
      },
      "source": [
        "# **Recommended base on Title and genre**"
      ]
    },
    {
      "cell_type": "code",
      "execution_count": null,
      "metadata": {
        "id": "5anEO1atZEYD"
      },
      "outputs": [],
      "source": [
        "anime = pd.DataFrame({'title' : df1['title'], 'genre' : df1['genre']})"
      ]
    },
    {
      "cell_type": "code",
      "execution_count": null,
      "metadata": {
        "colab": {
          "base_uri": "https://localhost:8080/",
          "height": 204
        },
        "id": "RMrLeg0AZENo",
        "outputId": "0da0131f-d505-4c76-c10f-b650b0cd2d93"
      },
      "outputs": [
        {
          "data": {
            "text/html": [
              "<div>\n",
              "<style scoped>\n",
              "    .dataframe tbody tr th:only-of-type {\n",
              "        vertical-align: middle;\n",
              "    }\n",
              "\n",
              "    .dataframe tbody tr th {\n",
              "        vertical-align: top;\n",
              "    }\n",
              "\n",
              "    .dataframe thead th {\n",
              "        text-align: right;\n",
              "    }\n",
              "</style>\n",
              "<table border=\"1\" class=\"dataframe\">\n",
              "  <thead>\n",
              "    <tr style=\"text-align: right;\">\n",
              "      <th></th>\n",
              "      <th>title</th>\n",
              "      <th>genre</th>\n",
              "    </tr>\n",
              "  </thead>\n",
              "  <tbody>\n",
              "    <tr>\n",
              "      <th>0</th>\n",
              "      <td>Haikyuu!! Second Season</td>\n",
              "      <td>['Comedy', 'Sports', 'Drama', 'School', 'Shoun...</td>\n",
              "    </tr>\n",
              "    <tr>\n",
              "      <th>1</th>\n",
              "      <td>Shigatsu wa Kimi no Uso</td>\n",
              "      <td>['Drama', 'Music', 'Romance', 'School', 'Shoun...</td>\n",
              "    </tr>\n",
              "    <tr>\n",
              "      <th>2</th>\n",
              "      <td>Made in Abyss</td>\n",
              "      <td>['Sci-Fi', 'Adventure', 'Mystery', 'Drama', 'F...</td>\n",
              "    </tr>\n",
              "    <tr>\n",
              "      <th>3</th>\n",
              "      <td>Fullmetal Alchemist: Brotherhood</td>\n",
              "      <td>['Action', 'Military', 'Adventure', 'Comedy', ...</td>\n",
              "    </tr>\n",
              "    <tr>\n",
              "      <th>4</th>\n",
              "      <td>Kizumonogatari III: Reiketsu-hen</td>\n",
              "      <td>['Action', 'Mystery', 'Supernatural', 'Vampire']</td>\n",
              "    </tr>\n",
              "  </tbody>\n",
              "</table>\n",
              "</div>"
            ],
            "text/plain": [
              "                              title                                              genre\n",
              "0           Haikyuu!! Second Season  ['Comedy', 'Sports', 'Drama', 'School', 'Shoun...\n",
              "1           Shigatsu wa Kimi no Uso  ['Drama', 'Music', 'Romance', 'School', 'Shoun...\n",
              "2                     Made in Abyss  ['Sci-Fi', 'Adventure', 'Mystery', 'Drama', 'F...\n",
              "3  Fullmetal Alchemist: Brotherhood  ['Action', 'Military', 'Adventure', 'Comedy', ...\n",
              "4  Kizumonogatari III: Reiketsu-hen   ['Action', 'Mystery', 'Supernatural', 'Vampire']"
            ]
          },
          "execution_count": 42,
          "metadata": {},
          "output_type": "execute_result"
        }
      ],
      "source": [
        "anime.head()"
      ]
    },
    {
      "cell_type": "code",
      "execution_count": null,
      "metadata": {
        "colab": {
          "base_uri": "https://localhost:8080/"
        },
        "id": "qKuqquA5ZD-a",
        "outputId": "12a010bd-b9b8-40d3-8365-2c2a7a6631b2"
      },
      "outputs": [
        {
          "name": "stdout",
          "output_type": "stream",
          "text": [
            "(16368, 43915)\n",
            "(16368, 971)\n"
          ]
        }
      ],
      "source": [
        "vec = TfidfVectorizer(analyzer='word',ngram_range=(1, 2),min_df=0, stop_words='english')\n",
        "X_title = vec.fit_transform(anime['title'])\n",
        "X_genre = vec.fit_transform(anime['genre'])\n",
        "print(X_title.shape)\n",
        "print(X_genre.shape)"
      ]
    },
    {
      "cell_type": "code",
      "execution_count": null,
      "metadata": {
        "id": "CWQmSHoOZD5q"
      },
      "outputs": [],
      "source": [
        "cosine_genre = cosine_similarity(X_genre, X_genre)\n",
        "cosine_title = cosine_similarity(X_title, X_title)"
      ]
    },
    {
      "cell_type": "code",
      "execution_count": null,
      "metadata": {
        "id": "aXqR6aNZZD01"
      },
      "outputs": [],
      "source": [
        "def recommendations(title , cosine):\n",
        "    index = pd.Series(anime.index, index=anime['title'])\n",
        "    idx = index[title]\n",
        "    score = list(enumerate(cosine[idx]))\n",
        "    score  = sorted(score , key=lambda x: x[1], reverse=True)\n",
        "    score  = score [1:]\n",
        "    print('Recommended anime to' , title , ':')\n",
        "    j=0\n",
        "    for i in score:\n",
        "      anime_index = anime[anime.index == i[0]]['title'].values[0]\n",
        "      print(j+1 , anime_index)\n",
        "      j = j+1\n",
        "      if j > 14:\n",
        "        break\n",
        "    return"
      ]
    },
    {
      "cell_type": "code",
      "execution_count": null,
      "metadata": {
        "colab": {
          "base_uri": "https://localhost:8080/"
        },
        "id": "EK42DC8PZDwR",
        "outputId": "b39d6728-1130-4d3b-ed2a-3544cf877307"
      },
      "outputs": [
        {
          "name": "stdout",
          "output_type": "stream",
          "text": [
            "Recommended anime to Haikyuu!! :\n",
            "1 Haikyuu!!: Karasuno Koukou vs. Shiratorizawa Gakuen Koukou\n",
            "2 Haikyuu!! Movie 2: Shousha to Haisha\n",
            "3 Haikyuu!! Movie 1: Owari to Hajimari\n",
            "4 Slam Dunk\n",
            "5 Haikyuu!!\n",
            "6 Haikyuu!!: To the Top\n",
            "7 Haikyuu!!: Riku vs. Kuu\n",
            "8 Tasogare Otome x Amnesia: Taima Otome\n",
            "9 Overlord: Ple Ple Pleiades - Nazarick Saidai no Kiki\n",
            "10 UN-GO: Inga-ron\n",
            "11 Maison Ikkoku: Shiki Utsuriyuku Kisetsu no Naka de\n",
            "12 Oushitsu Kyoushi Heine\n",
            "13 Tennis no Ouji-sama Movie 2: Eikokushiki Teikyuu Shiro Kessen!\n",
            "14 Tales of Phantasia The Animation\n",
            "15 Free!: Eternal Summer\n"
          ]
        }
      ],
      "source": [
        "recommendations('Haikyuu!!',cosine_genre)"
      ]
    },
    {
      "cell_type": "code",
      "execution_count": null,
      "metadata": {
        "colab": {
          "base_uri": "https://localhost:8080/"
        },
        "id": "5uAsdm9xrnh3",
        "outputId": "744241e4-8ec6-44e3-deec-286e4521d07d"
      },
      "outputs": [
        {
          "name": "stdout",
          "output_type": "stream",
          "text": [
            "Recommended anime to Haikyuu!! :\n",
            "1 Haikyuu!!: To the Top\n",
            "2 Haikyuu!! (OVA)\n",
            "3 Haikyuu!!: To the Top 2nd Season\n",
            "4 Haikyuu!! Second Season\n",
            "5 Pâtisserie no Monster\n",
            "6 gdgd Fairies Movie: tte Iu Eiga wa Dou kana...?\n",
            "7 Haikyuu!!: Lev Genzan!\n",
            "8 Haikyuu!! Movie 1: Owari to Hajimari\n",
            "9 Haikyuu!! Movie 4: Concept no Tatakai\n",
            "10 Haikyuu!! Movie 2: Shousha to Haisha\n",
            "11 Haikyuu!! Movie 3: Sainou to Sense\n",
            "12 Haikyuu!!: Riku vs. Kuu\n",
            "13 Haikyuu!!: Karasuno Koukou vs. Shiratorizawa Gakuen Koukou\n",
            "14 Oshiri Kajiri Mushi (TV) 2nd Season\n",
            "15 Shigatsu wa Kimi no Uso\n"
          ]
        }
      ],
      "source": [
        "recommendations('Haikyuu!!',cosine_title)"
      ]
    },
    {
      "cell_type": "markdown",
      "metadata": {
        "id": "4If79wEoZGAo"
      },
      "source": [
        "# **Collaborative Filtering**"
      ]
    },
    {
      "cell_type": "code",
      "execution_count": null,
      "metadata": {
        "id": "OYkrsRciKNcG"
      },
      "outputs": [],
      "source": [
        "# พยายามจะทำเป็น pivot table แต่ RAM ไม่เพียงพอ \n",
        "# anime = anime_rating.pivot(index='title',columns='userID',values='score').fillna(0,inreplece = True)\n",
        "# anime = pd.crosstab(anime_rating['title'],anime_rating['userID'])"
      ]
    },
    {
      "cell_type": "code",
      "execution_count": null,
      "metadata": {
        "id": "c7wKCzoXBOZt"
      },
      "outputs": [],
      "source": [
        "anime_ids = anime_rating[\"anime_uid\"].unique().tolist()\n",
        "encodedAnimetoAnime = {x: i for i, x in enumerate(anime_ids)}\n",
        "anime_rating[\"Anime\"] = anime_rating[\"anime_uid\"].map(encodedAnimetoAnime)"
      ]
    },
    {
      "cell_type": "code",
      "execution_count": null,
      "metadata": {
        "id": "HGXKlz73szy7"
      },
      "outputs": [],
      "source": [
        "num_users = len(encodedUsertoUser)\n",
        "num_anime = len(anime_ids)\n",
        "min_rating = min(anime_rating['rating'])\n",
        "max_rating = max(anime_rating['rating'])\n"
      ]
    },
    {
      "cell_type": "code",
      "execution_count": null,
      "metadata": {
        "id": "zvDJb77xFpT2"
      },
      "outputs": [],
      "source": [
        "anime_rating = anime_rating.sample(frac=1, random_state=42)\n",
        "x = anime_rating[['user','Anime']].values\n",
        "y = anime_rating['rating'].apply(lambda x: (x - min_rating) / (max_rating - min_rating)).values\n",
        "train_indices = int(0.8 * anime_rating.shape[0])\n",
        "X_train, X_test, y_train, y_test = (x[:train_indices],x[train_indices:],y[:train_indices],y[train_indices:])"
      ]
    },
    {
      "cell_type": "code",
      "execution_count": null,
      "metadata": {
        "id": "keqkIIHdGJl8"
      },
      "outputs": [],
      "source": [
        "EMBEDDING_SIZE = 50\n",
        "class RecommenderNet(keras.Model):\n",
        "    def __init__(self, num_users, num_anime, embedding_size, **kwargs):\n",
        "        super(RecommenderNet, self).__init__(**kwargs)\n",
        "        self.num_users = num_users\n",
        "        self.num_anime = num_anime\n",
        "        self.embedding_size = embedding_size\n",
        "        self.user_embedding = layers.Embedding(num_users,embedding_size,embeddings_initializer=\"he_normal\",embeddings_regularizer=keras.regularizers.l2(1e-6))\n",
        "        self.user_bias = layers.Embedding(num_users, 1)\n",
        "        self.anime_embedding = layers.Embedding(num_anime,embedding_size,embeddings_initializer=\"he_normal\", embeddings_regularizer=keras.regularizers.l2(1e-6))\n",
        "        self.anime_bias = layers.Embedding(num_anime, 1)\n",
        "    def call(self, inputs):\n",
        "        user_vector = self.user_embedding(inputs[:, 0])\n",
        "        user_bias = self.user_bias(inputs[:, 0])\n",
        "        anime_vector = self.anime_embedding(inputs[:, 1])\n",
        "        anime_bias = self.anime_bias(inputs[:, 1])\n",
        "        dot_user_anime = tf.tensordot(user_vector, anime_vector, 2)\n",
        "        x = dot_user_anime + user_bias + anime_bias\n",
        "        return tf.nn.sigmoid(x)"
      ]
    },
    {
      "cell_type": "code",
      "execution_count": null,
      "metadata": {
        "colab": {
          "base_uri": "https://localhost:8080/"
        },
        "id": "XWEAxXQQCzN5",
        "outputId": "9a56c3a0-59fb-4627-8bfc-61d6352328c4"
      },
      "outputs": [
        {
          "name": "stderr",
          "output_type": "stream",
          "text": [
            "/usr/local/lib/python3.7/dist-packages/keras/optimizer_v2/adam.py:105: UserWarning: The `lr` argument is deprecated, use `learning_rate` instead.\n",
            "  super(Adam, self).__init__(name, **kwargs)\n"
          ]
        }
      ],
      "source": [
        "model = RecommenderNet(num_users, num_anime, EMBEDDING_SIZE)\n",
        "model.compile(loss=tf.keras.losses.BinaryCrossentropy(), optimizer=keras.optimizers.Adam(lr=0.001))"
      ]
    },
    {
      "cell_type": "code",
      "execution_count": null,
      "metadata": {
        "colab": {
          "base_uri": "https://localhost:8080/"
        },
        "id": "3eE9xf1eGah1",
        "outputId": "77323903-bd78-4090-f9ad-9752981dc6b1"
      },
      "outputs": [
        {
          "name": "stdout",
          "output_type": "stream",
          "text": [
            "Epoch 1/4\n",
            "1055/1055 [==============================] - 35s 32ms/step - loss: 0.6512 - val_loss: 0.6298\n",
            "Epoch 2/4\n",
            "1055/1055 [==============================] - 34s 33ms/step - loss: 0.6244 - val_loss: 0.6425\n",
            "Epoch 3/4\n",
            "1055/1055 [==============================] - 34s 32ms/step - loss: 0.6194 - val_loss: 0.6381\n",
            "Epoch 4/4\n",
            "1055/1055 [==============================] - 34s 32ms/step - loss: 0.6246 - val_loss: 0.6474\n"
          ]
        }
      ],
      "source": [
        "history = model.fit(x=X_train,y=y_train,batch_size=100,epochs=4,verbose=1,validation_data=(X_test, y_test),)"
      ]
    },
    {
      "cell_type": "code",
      "execution_count": null,
      "metadata": {
        "colab": {
          "base_uri": "https://localhost:8080/",
          "height": 204
        },
        "id": "E8-oHoztQncO",
        "outputId": "65a7d1a2-c340-4885-9f62-b76942ed2de2"
      },
      "outputs": [
        {
          "data": {
            "text/html": [
              "<div>\n",
              "<style scoped>\n",
              "    .dataframe tbody tr th:only-of-type {\n",
              "        vertical-align: middle;\n",
              "    }\n",
              "\n",
              "    .dataframe tbody tr th {\n",
              "        vertical-align: top;\n",
              "    }\n",
              "\n",
              "    .dataframe thead th {\n",
              "        text-align: right;\n",
              "    }\n",
              "</style>\n",
              "<table border=\"1\" class=\"dataframe\">\n",
              "  <thead>\n",
              "    <tr style=\"text-align: right;\">\n",
              "      <th></th>\n",
              "      <th>anime_uid</th>\n",
              "      <th>title</th>\n",
              "      <th>genre</th>\n",
              "    </tr>\n",
              "  </thead>\n",
              "  <tbody>\n",
              "    <tr>\n",
              "      <th>0</th>\n",
              "      <td>28891</td>\n",
              "      <td>Haikyuu!! Second Season</td>\n",
              "      <td>['Comedy', 'Sports', 'Drama', 'School', 'Shoun...</td>\n",
              "    </tr>\n",
              "    <tr>\n",
              "      <th>1</th>\n",
              "      <td>23273</td>\n",
              "      <td>Shigatsu wa Kimi no Uso</td>\n",
              "      <td>['Drama', 'Music', 'Romance', 'School', 'Shoun...</td>\n",
              "    </tr>\n",
              "    <tr>\n",
              "      <th>2</th>\n",
              "      <td>34599</td>\n",
              "      <td>Made in Abyss</td>\n",
              "      <td>['Sci-Fi', 'Adventure', 'Mystery', 'Drama', 'F...</td>\n",
              "    </tr>\n",
              "    <tr>\n",
              "      <th>3</th>\n",
              "      <td>5114</td>\n",
              "      <td>Fullmetal Alchemist: Brotherhood</td>\n",
              "      <td>['Action', 'Military', 'Adventure', 'Comedy', ...</td>\n",
              "    </tr>\n",
              "    <tr>\n",
              "      <th>4</th>\n",
              "      <td>31758</td>\n",
              "      <td>Kizumonogatari III: Reiketsu-hen</td>\n",
              "      <td>['Action', 'Mystery', 'Supernatural', 'Vampire']</td>\n",
              "    </tr>\n",
              "  </tbody>\n",
              "</table>\n",
              "</div>"
            ],
            "text/plain": [
              "   anime_uid  ...                                              genre\n",
              "0      28891  ...  ['Comedy', 'Sports', 'Drama', 'School', 'Shoun...\n",
              "1      23273  ...  ['Drama', 'Music', 'Romance', 'School', 'Shoun...\n",
              "2      34599  ...  ['Sci-Fi', 'Adventure', 'Mystery', 'Drama', 'F...\n",
              "3       5114  ...  ['Action', 'Military', 'Adventure', 'Comedy', ...\n",
              "4      31758  ...   ['Action', 'Mystery', 'Supernatural', 'Vampire']\n",
              "\n",
              "[5 rows x 3 columns]"
            ]
          },
          "execution_count": 55,
          "metadata": {},
          "output_type": "execute_result"
        }
      ],
      "source": [
        "animetitle = pd.DataFrame({'anime_uid' : df1['anime_uid'] ,'title' : df1['title'], 'genre' : df1['genre']})\n",
        "animetitle.head()"
      ]
    },
    {
      "cell_type": "code",
      "execution_count": null,
      "metadata": {
        "id": "2qy0s3qqGeI2"
      },
      "outputs": [],
      "source": [
        "# พยายามจะลองรับค่าของ user id แต่เนื่องจาก userID ใน anime_rating ไม่ได้เรียงลำดับตั้งแต่แรก จึงยากต่อการนำไปใช้ต่อ\n",
        "# user_id = anime_rating.userID.iloc[0]\n",
        "# userid = int(input('Enter your user id '))\n",
        "# user_id = anime_rating.userID.iloc[userid]\n",
        "# user_id = anime_rating.userID.iloc[0]\n",
        "user_id = anime_rating.profile.sample(1).iloc[0]\n",
        "animeEncodedToAnime = {i: x for i, x in enumerate(anime_ids)}\n",
        "watchListByUser = anime_rating[anime_rating.profile == user_id]\n",
        "animeNotWatched = animetitle[~animetitle['anime_uid'].isin(watchListByUser.anime_uid.values)]['anime_uid']\n",
        "animeNotWatched = list(set(animeNotWatched).intersection(set(encodedAnimetoAnime.keys())))\n",
        "animeNotWatched = [[encodedAnimetoAnime.get(x)] for x in animeNotWatched]\n",
        "userEncoder = encodedUsertoUser.get(user_id)\n",
        "userAnimeArray = np.hstack(([[userEncoder]] * len(animeNotWatched), animeNotWatched))\n",
        "ratings = model.predict(userAnimeArray).flatten()\n",
        "top_ratings_indices = ratings.argsort()[-10:][::-1]\n",
        "recommendedAnimeids = [animeEncodedToAnime.get(animeNotWatched[x][0]) for x in top_ratings_indices]"
      ]
    },
    {
      "cell_type": "code",
      "execution_count": null,
      "metadata": {
        "colab": {
          "base_uri": "https://localhost:8080/"
        },
        "id": "Bc9yQ0Wt8U7S",
        "outputId": "0fe8dc74-75ad-4f39-8726-56c9f6b3d92b"
      },
      "outputs": [
        {
          "name": "stdout",
          "output_type": "stream",
          "text": [
            "Recommendations Anime for user: Lily77\n",
            "================================================================================\n",
            "   Animes with high ratings from user\n",
            "\t 1 Tsumiki no Ie : ['Drama']\n",
            "\t 2 Ano Hi Mita Hana no Namae wo Bokutachi wa Mada Shiranai. : ['Slice of Life', 'Supernatural', 'Drama']\n",
            "\t 3 Vampire Holmes : ['Mystery', 'Comedy', 'Supernatural']\n",
            "\t 4 Kuzu no Honkai : ['Drama', 'Romance', 'School', 'Seinen']\n",
            "   Top 10 anime recommendations\n",
            "\t 1 Fullmetal Alchemist: Brotherhood : ['Action', 'Military', 'Adventure', 'Comedy', 'Drama', 'Magic', 'Fantasy', 'Shounen']\n",
            "\t 2 Clannad: After Story : ['Slice of Life', 'Comedy', 'Supernatural', 'Drama', 'Romance']\n",
            "\t 3 Mahou Shoujo Madoka★Magica : ['Psychological', 'Drama', 'Magic', 'Thriller']\n",
            "\t 4 Usagi Drop : ['Josei', 'Slice of Life']\n",
            "\t 5 Haikyuu!! : ['Comedy', 'Sports', 'Drama', 'School', 'Shounen']\n",
            "\t 6 Suzumiya Haruhi no Shoushitsu : ['Comedy', 'Mystery', 'Romance', 'School', 'Sci-Fi', 'Supernatural']\n",
            "\t 7 Death Note : ['Mystery', 'Police', 'Psychological', 'Supernatural', 'Thriller', 'Shounen']\n",
            "\t 8 Hajime no Ippo : ['Comedy', 'Sports', 'Drama', 'Shounen']\n",
            "\t 9 Cowboy Bebop : ['Action', 'Adventure', 'Comedy', 'Drama', 'Sci-Fi', 'Space']\n",
            "\t 10 Steins;Gate : ['Thriller', 'Sci-Fi']\n"
          ]
        }
      ],
      "source": [
        "print(\"Recommendations Anime for user: {}\".format(user_id))\n",
        "print(\"====\" * 20)\n",
        "print(\"   Animes with high ratings from user\")\n",
        "topAnime = (watchListByUser.sort_values(by=\"rating\", ascending=False).head(5).anime_uid.values)\n",
        "Animerows = animetitle[animetitle[\"anime_uid\"].isin(topAnime)]\n",
        "i = 0\n",
        "for row in Animerows.itertuples():\n",
        "    print('\\t', i+1,row.title, \":\", row.genre)\n",
        "    i = i + 1\n",
        "    if(i>5):\n",
        "      break\n",
        "print(\"   Top 10 anime recommendations\")\n",
        "recommendedAnime = animetitle[animetitle[\"anime_uid\"].isin(recommendedAnimeids)]\n",
        "i = 0\n",
        "for row in recommendedAnime.itertuples():\n",
        "    print('\\t',i+1 ,row.title, \":\", row.genre)\n",
        "    i = i + 1\n",
        "    if(i>11):\n",
        "      break"
      ]
    }
  ],
  "metadata": {
    "accelerator": "TPU",
    "colab": {
      "collapsed_sections": [],
      "name": "345 Group Project.ipynb",
      "provenance": []
    },
    "kernelspec": {
      "display_name": "Python 3",
      "name": "python3"
    },
    "language_info": {
      "name": "python"
    }
  },
  "nbformat": 4,
  "nbformat_minor": 0
}
